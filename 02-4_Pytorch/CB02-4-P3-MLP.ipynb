{
 "cells": [
  {
   "attachments": {
    "image.png": {
     "image/png": "[encoded data removed]"
    }
   },
   "cell_type": "markdown",
   "metadata": {},
   "source": [
    "## CB02-4 Part Three: Building a MLP using Torch\n",
    "recall:\n",
    "![image.png](attachment:image.png)"
   ]
  },
  {
   "cell_type": "markdown",
   "metadata": {},
   "source": [
    "### 01 Buiding MLP"
   ]
  },
  {
   "cell_type": "code",
   "execution_count": 3,
   "metadata": {},
   "outputs": [],
   "source": [
    "import torch\n",
    "\n",
    "class mlp(torch.nn.Module):\n",
    "    def __init__(self, num_inputs, num_outputs):\n",
    "        super().__init__()\n",
    "        \n",
    "        self.layers = torch.nn.Sequential(\n",
    "            \n",
    "            # 1st hidden layer\n",
    "            torch.nn.Linear(num_inputs, 16),\n",
    "            torch.nn.ReLU(),\n",
    "\n",
    "            # 2nd hidden layer\n",
    "            torch.nn.Linear(16, 16),\n",
    "            torch.nn.ReLU(),\n",
    "\n",
    "            # output layer\n",
    "            torch.nn.Linear(16, num_outputs)\n",
    "        )\n",
    "\n",
    "    def forward(self, x):\n",
    "        logits = self.layers(x)\n",
    "        return logits"
   ]
  },
  {
   "cell_type": "code",
   "execution_count": 4,
   "metadata": {},
   "outputs": [
    {
     "data": {
      "text/plain": [
       "mlp(\n",
       "  (layers): Sequential(\n",
       "    (0): Linear(in_features=784, out_features=16, bias=True)\n",
       "    (1): ReLU()\n",
       "    (2): Linear(in_features=16, out_features=16, bias=True)\n",
       "    (3): ReLU()\n",
       "    (4): Linear(in_features=16, out_features=10, bias=True)\n",
       "  )\n",
       ")"
      ]
     },
     "execution_count": 4,
     "metadata": {},
     "output_type": "execute_result"
    }
   ],
   "source": [
    "model = mlp(784, 10)\n",
    "model"
   ]
  },
  {
   "cell_type": "markdown",
   "metadata": {},
   "source": [
    "Note:\n",
    "Using\n",
    "Sequential is not required, while by using Sequential, we just have to call the self.layers instead of calling each\n",
    "layer individually in the NeuralNetwork's forward method."
   ]
  },
  {
   "cell_type": "markdown",
   "metadata": {},
   "source": [
    "### 02 Attributes of the model"
   ]
  },
  {
   "cell_type": "markdown",
   "metadata": {},
   "source": [
    "### Layers, and corresponding weights & biases"
   ]
  },
  {
   "cell_type": "code",
   "execution_count": 6,
   "metadata": {},
   "outputs": [
    {
     "data": {
      "text/plain": [
       "Sequential(\n",
       "  (0): Linear(in_features=784, out_features=16, bias=True)\n",
       "  (1): ReLU()\n",
       "  (2): Linear(in_features=16, out_features=16, bias=True)\n",
       "  (3): ReLU()\n",
       "  (4): Linear(in_features=16, out_features=10, bias=True)\n",
       ")"
      ]
     },
     "execution_count": 6,
     "metadata": {},
     "output_type": "execute_result"
    }
   ],
   "source": [
    "# check layers\n",
    "layers = model.layers\n",
    "layers"
   ]
  },
  {
   "cell_type": "code",
   "execution_count": 7,
   "metadata": {},
   "outputs": [
    {
     "data": {
      "text/plain": [
       "(Linear(in_features=784, out_features=16, bias=True),\n",
       " Parameter containing:\n",
       " tensor([[ 0.0290, -0.0157,  0.0061,  ..., -0.0117,  0.0022, -0.0158],\n",
       "         [-0.0281, -0.0295, -0.0084,  ..., -0.0030,  0.0217, -0.0253],\n",
       "         [-0.0051, -0.0111,  0.0037,  ..., -0.0210, -0.0204, -0.0344],\n",
       "         ...,\n",
       "         [-0.0338,  0.0185, -0.0199,  ..., -0.0281,  0.0080,  0.0031],\n",
       "         [ 0.0235, -0.0219, -0.0053,  ...,  0.0247,  0.0330, -0.0234],\n",
       "         [-0.0336, -0.0028, -0.0044,  ..., -0.0140,  0.0157,  0.0099]],\n",
       "        requires_grad=True),\n",
       " Parameter containing:\n",
       " tensor([ 0.0212,  0.0079, -0.0163,  0.0174, -0.0279,  0.0168,  0.0088,  0.0334,\n",
       "          0.0304,  0.0223, -0.0143,  0.0140, -0.0089, -0.0118, -0.0322, -0.0355],\n",
       "        requires_grad=True))"
      ]
     },
     "execution_count": 7,
     "metadata": {},
     "output_type": "execute_result"
    }
   ],
   "source": [
    "layers[0], layers[0].weight, layers[0].bias"
   ]
  },
  {
   "cell_type": "code",
   "execution_count": 8,
   "metadata": {},
   "outputs": [
    {
     "data": {
      "text/plain": [
       "(torch.Size([16, 784]), torch.Size([16]))"
      ]
     },
     "execution_count": 8,
     "metadata": {},
     "output_type": "execute_result"
    }
   ],
   "source": [
    "# shape of weights and biases\n",
    "# weights: 784 x 16\n",
    "# biases: 16\n",
    "layers[0].weight.shape, layers[0].bias.shape"
   ]
  },
  {
   "cell_type": "markdown",
   "metadata": {},
   "source": [
    "### Parameters"
   ]
  },
  {
   "cell_type": "code",
   "execution_count": 10,
   "metadata": {},
   "outputs": [
    {
     "data": {
      "text/plain": [
       "<generator object Module.parameters at 0x000002A78DC718C0>"
      ]
     },
     "execution_count": 10,
     "metadata": {},
     "output_type": "execute_result"
    }
   ],
   "source": [
    "model.parameters()"
   ]
  },
  {
   "cell_type": "code",
   "execution_count": 11,
   "metadata": {},
   "outputs": [
    {
     "data": {
      "text/plain": [
       "(6,\n",
       " Parameter containing:\n",
       " tensor([[ 0.0290, -0.0157,  0.0061,  ..., -0.0117,  0.0022, -0.0158],\n",
       "         [-0.0281, -0.0295, -0.0084,  ..., -0.0030,  0.0217, -0.0253],\n",
       "         [-0.0051, -0.0111,  0.0037,  ..., -0.0210, -0.0204, -0.0344],\n",
       "         ...,\n",
       "         [-0.0338,  0.0185, -0.0199,  ..., -0.0281,  0.0080,  0.0031],\n",
       "         [ 0.0235, -0.0219, -0.0053,  ...,  0.0247,  0.0330, -0.0234],\n",
       "         [-0.0336, -0.0028, -0.0044,  ..., -0.0140,  0.0157,  0.0099]],\n",
       "        requires_grad=True),\n",
       " torch.Size([16, 784]))"
      ]
     },
     "execution_count": 11,
     "metadata": {},
     "output_type": "execute_result"
    }
   ],
   "source": [
    "# check parameters: trainable weights and biases\n",
    "paras = [p for p in model.parameters()]\n",
    "len(paras), paras[0], paras[0].shape # paras[0] is the weight of the 1st layer"
   ]
  },
  {
   "cell_type": "code",
   "execution_count": 12,
   "metadata": {},
   "outputs": [
    {
     "data": {
      "text/plain": [
       "tensor([[True, True, True,  ..., True, True, True],\n",
       "        [True, True, True,  ..., True, True, True],\n",
       "        [True, True, True,  ..., True, True, True],\n",
       "        ...,\n",
       "        [True, True, True,  ..., True, True, True],\n",
       "        [True, True, True,  ..., True, True, True],\n",
       "        [True, True, True,  ..., True, True, True]])"
      ]
     },
     "execution_count": 12,
     "metadata": {},
     "output_type": "execute_result"
    }
   ],
   "source": [
    "layers[0].weight == paras[0]"
   ]
  },
  {
   "cell_type": "code",
   "execution_count": 13,
   "metadata": {},
   "outputs": [
    {
     "data": {
      "text/plain": [
       "(tensor([True, True, True, True, True, True, True, True, True, True, True, True,\n",
       "         True, True, True, True]),\n",
       " torch.Size([16]))"
      ]
     },
     "execution_count": 13,
     "metadata": {},
     "output_type": "execute_result"
    }
   ],
   "source": [
    "# paras[1] is the bias of the 1st layer\n",
    "layers[0].bias == paras[1], paras[1].shape"
   ]
  },
  {
   "cell_type": "code",
   "execution_count": 14,
   "metadata": {},
   "outputs": [
    {
     "data": {
      "text/plain": [
       "(Sequential(\n",
       "   (0): Linear(in_features=784, out_features=16, bias=True)\n",
       "   (1): ReLU()\n",
       "   (2): Linear(in_features=16, out_features=16, bias=True)\n",
       "   (3): ReLU()\n",
       "   (4): Linear(in_features=16, out_features=10, bias=True)\n",
       " ),\n",
       " 6)"
      ]
     },
     "execution_count": 14,
     "metadata": {},
     "output_type": "execute_result"
    }
   ],
   "source": [
    "# more tests\n",
    "layers, len(paras)"
   ]
  },
  {
   "cell_type": "code",
   "execution_count": 15,
   "metadata": {},
   "outputs": [
    {
     "data": {
      "text/plain": [
       "(tensor([[True, True, True, True, True, True, True, True, True, True, True, True,\n",
       "          True, True, True, True],\n",
       "         [True, True, True, True, True, True, True, True, True, True, True, True,\n",
       "          True, True, True, True],\n",
       "         [True, True, True, True, True, True, True, True, True, True, True, True,\n",
       "          True, True, True, True],\n",
       "         [True, True, True, True, True, True, True, True, True, True, True, True,\n",
       "          True, True, True, True],\n",
       "         [True, True, True, True, True, True, True, True, True, True, True, True,\n",
       "          True, True, True, True],\n",
       "         [True, True, True, True, True, True, True, True, True, True, True, True,\n",
       "          True, True, True, True],\n",
       "         [True, True, True, True, True, True, True, True, True, True, True, True,\n",
       "          True, True, True, True],\n",
       "         [True, True, True, True, True, True, True, True, True, True, True, True,\n",
       "          True, True, True, True],\n",
       "         [True, True, True, True, True, True, True, True, True, True, True, True,\n",
       "          True, True, True, True],\n",
       "         [True, True, True, True, True, True, True, True, True, True, True, True,\n",
       "          True, True, True, True]]),\n",
       " torch.Size([10, 16]))"
      ]
     },
     "execution_count": 15,
     "metadata": {},
     "output_type": "execute_result"
    }
   ],
   "source": [
    "layers[-1].weight == paras[-2], paras[-2].shape # 16 x 10.T"
   ]
  },
  {
   "cell_type": "code",
   "execution_count": 16,
   "metadata": {},
   "outputs": [
    {
     "data": {
      "text/plain": [
       "10"
      ]
     },
     "execution_count": 16,
     "metadata": {},
     "output_type": "execute_result"
    }
   ],
   "source": [
    "paras[-1].numel()"
   ]
  },
  {
   "cell_type": "code",
   "execution_count": 17,
   "metadata": {},
   "outputs": [
    {
     "data": {
      "text/plain": [
       "13002"
      ]
     },
     "execution_count": 17,
     "metadata": {},
     "output_type": "execute_result"
    }
   ],
   "source": [
    "# check the number of parameters\n",
    "num_params = sum(p.numel() for p in model.parameters())\n",
    "num_params"
   ]
  },
  {
   "cell_type": "markdown",
   "metadata": {},
   "source": [
    "## sum for now\n",
    "1. model.parametes() stores all trainable paras that \"requires_grad = True\".\n",
    "2. automatically set requires_grad = True while using Linear class\n",
    "3. all paras are initialized randomly. Seed can be set.\n",
    "eg. torch.manual_seed(9)\n",
    "\n",
    "    model = mlp(784, 10)"
   ]
  },
  {
   "cell_type": "markdown",
   "metadata": {},
   "source": [
    "### 03 Using the Model: Forward Pass(Inference)"
   ]
  },
  {
   "cell_type": "code",
   "execution_count": 18,
   "metadata": {},
   "outputs": [
    {
     "data": {
      "text/plain": [
       "mlp(\n",
       "  (layers): Sequential(\n",
       "    (0): Linear(in_features=784, out_features=16, bias=True)\n",
       "    (1): ReLU()\n",
       "    (2): Linear(in_features=16, out_features=16, bias=True)\n",
       "    (3): ReLU()\n",
       "    (4): Linear(in_features=16, out_features=10, bias=True)\n",
       "  )\n",
       ")"
      ]
     },
     "execution_count": 18,
     "metadata": {},
     "output_type": "execute_result"
    }
   ],
   "source": [
    "model"
   ]
  },
  {
   "cell_type": "code",
   "execution_count": 19,
   "metadata": {},
   "outputs": [],
   "source": [
    "torch.manual_seed(0)\n",
    "input_data = torch.randn(3, 784) # 3 sample with 784 features"
   ]
  },
  {
   "cell_type": "code",
   "execution_count": 20,
   "metadata": {},
   "outputs": [
    {
     "data": {
      "text/plain": [
       "(tensor([[-0.2453,  0.1813,  0.1580, -0.0945, -0.0459, -0.0542, -0.1011, -0.2777,\n",
       "          -0.0809, -0.3793],\n",
       "         [-0.1804,  0.2557,  0.1123, -0.0775, -0.1141, -0.0087,  0.0722, -0.2776,\n",
       "           0.0381, -0.4321],\n",
       "         [-0.3105,  0.2838,  0.2473,  0.0782, -0.1984,  0.0119, -0.0292, -0.2770,\n",
       "          -0.1316, -0.4771]], grad_fn=<AddmmBackward0>),\n",
       " torch.Size([3, 10]))"
      ]
     },
     "execution_count": 20,
     "metadata": {},
     "output_type": "execute_result"
    }
   ],
   "source": [
    "out = model(input_data)\n",
    "out, out.shape"
   ]
  },
  {
   "cell_type": "markdown",
   "metadata": {},
   "source": [
    "### Turn off autograd when inference\n",
    "does not keep track of gradients"
   ]
  },
  {
   "cell_type": "code",
   "execution_count": 21,
   "metadata": {},
   "outputs": [
    {
     "data": {
      "text/plain": [
       "tensor([[-0.2453,  0.1813,  0.1580, -0.0945, -0.0459, -0.0542, -0.1011, -0.2777,\n",
       "         -0.0809, -0.3793],\n",
       "        [-0.1804,  0.2557,  0.1123, -0.0775, -0.1141, -0.0087,  0.0722, -0.2776,\n",
       "          0.0381, -0.4321],\n",
       "        [-0.3105,  0.2838,  0.2473,  0.0782, -0.1984,  0.0119, -0.0292, -0.2770,\n",
       "         -0.1316, -0.4771]])"
      ]
     },
     "execution_count": 21,
     "metadata": {},
     "output_type": "execute_result"
    }
   ],
   "source": [
    "with torch.no_grad():\n",
    "    out = model(input_data)\n",
    "out"
   ]
  }
 ],
 "metadata": {
  "kernelspec": {
   "display_name": "d2l",
   "language": "python",
   "name": "python3"
  },
  "language_info": {
   "codemirror_mode": {
    "name": "ipython",
    "version": 3
   },
   "file_extension": ".py",
   "mimetype": "text/x-python",
   "name": "python",
   "nbconvert_exporter": "python",
   "pygments_lexer": "ipython3",
   "version": "3.11.9"
  }
 },
 "nbformat": 4,
 "nbformat_minor": 2
}
